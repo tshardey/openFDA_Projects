{
 "cells": [
  {
   "cell_type": "markdown",
   "metadata": {},
   "source": [
    "# MAUDE Database Data Visualization (Q1-2017)"
   ]
  },
  {
   "cell_type": "code",
   "execution_count": 1,
   "metadata": {},
   "outputs": [],
   "source": [
    "import pandas as pd \n",
    "import numpy as np \n",
    "import matplotlib.pyplot as plt\n",
    "\n",
    "plt.style.use('ggplot')"
   ]
  },
  {
   "cell_type": "code",
   "execution_count": 2,
   "metadata": {},
   "outputs": [
    {
     "name": "stderr",
     "output_type": "stream",
     "text": [
      "C:\\Users\\Tierra\\Anaconda3\\lib\\site-packages\\IPython\\core\\interactiveshell.py:3020: DtypeWarning: Columns (12) have mixed types. Specify dtype option on import or set low_memory=False.\n",
      "  interactivity=interactivity, compiler=compiler, result=result)\n"
     ]
    },
    {
     "data": {
      "text/html": [
       "<div>\n",
       "<style scoped>\n",
       "    .dataframe tbody tr th:only-of-type {\n",
       "        vertical-align: middle;\n",
       "    }\n",
       "\n",
       "    .dataframe tbody tr th {\n",
       "        vertical-align: top;\n",
       "    }\n",
       "\n",
       "    .dataframe thead th {\n",
       "        text-align: right;\n",
       "    }\n",
       "</style>\n",
       "<table border=\"1\" class=\"dataframe\">\n",
       "  <thead>\n",
       "    <tr style=\"text-align: right;\">\n",
       "      <th></th>\n",
       "      <th>brand_name</th>\n",
       "      <th>date_received</th>\n",
       "      <th>device_availability</th>\n",
       "      <th>device_evaluated_by_manufacturer</th>\n",
       "      <th>device_operator</th>\n",
       "      <th>device_report_product_code</th>\n",
       "      <th>device_sequence_number</th>\n",
       "      <th>generic_name</th>\n",
       "      <th>manufacturer_d_city</th>\n",
       "      <th>manufacturer_d_country</th>\n",
       "      <th>...</th>\n",
       "      <th>model_number</th>\n",
       "      <th>adverse_event_flag</th>\n",
       "      <th>date_manufacturer_received</th>\n",
       "      <th>date_of_event</th>\n",
       "      <th>event_location</th>\n",
       "      <th>event_type</th>\n",
       "      <th>health_professional</th>\n",
       "      <th>general_device_name</th>\n",
       "      <th>device_class</th>\n",
       "      <th>medical_specialty</th>\n",
       "    </tr>\n",
       "  </thead>\n",
       "  <tbody>\n",
       "    <tr>\n",
       "      <th>0</th>\n",
       "      <td>TRILOGY 100</td>\n",
       "      <td>2017-01-10</td>\n",
       "      <td>Device was returned to manufacturer</td>\n",
       "      <td>Y</td>\n",
       "      <td>HEALTH PROFESSIONAL</td>\n",
       "      <td>CBK</td>\n",
       "      <td>1.0</td>\n",
       "      <td>VENTILATOR, CONTINUOUS, FACILITY USE</td>\n",
       "      <td>MURRYSVILLE</td>\n",
       "      <td>US</td>\n",
       "      <td>...</td>\n",
       "      <td>1054260</td>\n",
       "      <td>Y</td>\n",
       "      <td>2016-12-12</td>\n",
       "      <td>2016-11-23</td>\n",
       "      <td>I</td>\n",
       "      <td>Death</td>\n",
       "      <td>Y</td>\n",
       "      <td>Ventilator, Continuous, Facility Use</td>\n",
       "      <td>2</td>\n",
       "      <td>Anesthesiology</td>\n",
       "    </tr>\n",
       "    <tr>\n",
       "      <th>1</th>\n",
       "      <td>CONTOUR NEXT</td>\n",
       "      <td>2017-02-01</td>\n",
       "      <td>Device was returned to manufacturer</td>\n",
       "      <td>Y</td>\n",
       "      <td>LAY USER/PATIENT</td>\n",
       "      <td>NBW</td>\n",
       "      <td>1.0</td>\n",
       "      <td>BLOOD GLUCOSE TEST STRIPS</td>\n",
       "      <td>MISHAWAKA</td>\n",
       "      <td>US</td>\n",
       "      <td>...</td>\n",
       "      <td>7312</td>\n",
       "      <td>Y</td>\n",
       "      <td>2017-02-10</td>\n",
       "      <td>2017-01-08</td>\n",
       "      <td>I</td>\n",
       "      <td>Injury</td>\n",
       "      <td>N</td>\n",
       "      <td>System, Test, Blood Glucose, Over The Counter</td>\n",
       "      <td>2</td>\n",
       "      <td>Clinical Chemistry</td>\n",
       "    </tr>\n",
       "    <tr>\n",
       "      <th>2</th>\n",
       "      <td>UNIFY ASSURA ICD</td>\n",
       "      <td>2017-01-05</td>\n",
       "      <td>No</td>\n",
       "      <td>*</td>\n",
       "      <td>HEALTH PROFESSIONAL</td>\n",
       "      <td>NIK</td>\n",
       "      <td>1.0</td>\n",
       "      <td>IMPLANTABLE CARDIOVERTER DEFIBRILLATOR</td>\n",
       "      <td>SUNNYVALE</td>\n",
       "      <td>US</td>\n",
       "      <td>...</td>\n",
       "      <td>CD3361-40</td>\n",
       "      <td>Y</td>\n",
       "      <td>2016-12-15</td>\n",
       "      <td>2016-12-15</td>\n",
       "      <td>I</td>\n",
       "      <td>Injury</td>\n",
       "      <td>Y</td>\n",
       "      <td>Defibrillator, Automatic Implantable Cardiover...</td>\n",
       "      <td>3</td>\n",
       "      <td>Unknown</td>\n",
       "    </tr>\n",
       "    <tr>\n",
       "      <th>3</th>\n",
       "      <td>640G INSULIN PUMP</td>\n",
       "      <td>2017-01-05</td>\n",
       "      <td>No</td>\n",
       "      <td>R</td>\n",
       "      <td>LAY USER/PATIENT</td>\n",
       "      <td>OYC</td>\n",
       "      <td>1.0</td>\n",
       "      <td>INSULIN INFUSION PUMP / SENSOR AUGMENTED</td>\n",
       "      <td>JUNCOS</td>\n",
       "      <td>US</td>\n",
       "      <td>...</td>\n",
       "      <td>MMT-1711K</td>\n",
       "      <td>N</td>\n",
       "      <td>2016-12-13</td>\n",
       "      <td>2016-12-13</td>\n",
       "      <td>I</td>\n",
       "      <td>Malfunction</td>\n",
       "      <td>N</td>\n",
       "      <td>Pump, Infusion, Insulin, To Be Used With Invas...</td>\n",
       "      <td>3</td>\n",
       "      <td>Unknown</td>\n",
       "    </tr>\n",
       "    <tr>\n",
       "      <th>4</th>\n",
       "      <td>640G INSULIN PUMP</td>\n",
       "      <td>2017-01-06</td>\n",
       "      <td>No</td>\n",
       "      <td>R</td>\n",
       "      <td>LAY USER/PATIENT</td>\n",
       "      <td>OYC</td>\n",
       "      <td>1.0</td>\n",
       "      <td>INSULIN INFUSION PUMP / SENSOR AUGMENTED</td>\n",
       "      <td>JUNCOS</td>\n",
       "      <td>US</td>\n",
       "      <td>...</td>\n",
       "      <td>MMT-1711K</td>\n",
       "      <td>N</td>\n",
       "      <td>2016-12-14</td>\n",
       "      <td>2016-12-14</td>\n",
       "      <td>I</td>\n",
       "      <td>Malfunction</td>\n",
       "      <td>N</td>\n",
       "      <td>Pump, Infusion, Insulin, To Be Used With Invas...</td>\n",
       "      <td>3</td>\n",
       "      <td>Unknown</td>\n",
       "    </tr>\n",
       "  </tbody>\n",
       "</table>\n",
       "<p>5 rows × 23 columns</p>\n",
       "</div>"
      ],
      "text/plain": [
       "          brand_name date_received                  device_availability  \\\n",
       "0        TRILOGY 100    2017-01-10  Device was returned to manufacturer   \n",
       "1       CONTOUR NEXT    2017-02-01  Device was returned to manufacturer   \n",
       "2   UNIFY ASSURA ICD    2017-01-05                                   No   \n",
       "3  640G INSULIN PUMP    2017-01-05                                   No   \n",
       "4  640G INSULIN PUMP    2017-01-06                                   No   \n",
       "\n",
       "  device_evaluated_by_manufacturer      device_operator  \\\n",
       "0                                Y  HEALTH PROFESSIONAL   \n",
       "1                                Y     LAY USER/PATIENT   \n",
       "2                                *  HEALTH PROFESSIONAL   \n",
       "3                                R     LAY USER/PATIENT   \n",
       "4                                R     LAY USER/PATIENT   \n",
       "\n",
       "  device_report_product_code  device_sequence_number  \\\n",
       "0                        CBK                     1.0   \n",
       "1                        NBW                     1.0   \n",
       "2                        NIK                     1.0   \n",
       "3                        OYC                     1.0   \n",
       "4                        OYC                     1.0   \n",
       "\n",
       "                               generic_name manufacturer_d_city  \\\n",
       "0      VENTILATOR, CONTINUOUS, FACILITY USE         MURRYSVILLE   \n",
       "1                 BLOOD GLUCOSE TEST STRIPS           MISHAWAKA   \n",
       "2    IMPLANTABLE CARDIOVERTER DEFIBRILLATOR           SUNNYVALE   \n",
       "3  INSULIN INFUSION PUMP / SENSOR AUGMENTED              JUNCOS   \n",
       "4  INSULIN INFUSION PUMP / SENSOR AUGMENTED              JUNCOS   \n",
       "\n",
       "  manufacturer_d_country         ...         model_number adverse_event_flag  \\\n",
       "0                     US         ...              1054260                  Y   \n",
       "1                     US         ...                 7312                  Y   \n",
       "2                     US         ...            CD3361-40                  Y   \n",
       "3                     US         ...            MMT-1711K                  N   \n",
       "4                     US         ...            MMT-1711K                  N   \n",
       "\n",
       "  date_manufacturer_received date_of_event event_location   event_type  \\\n",
       "0                 2016-12-12    2016-11-23              I        Death   \n",
       "1                 2017-02-10    2017-01-08              I       Injury   \n",
       "2                 2016-12-15    2016-12-15              I       Injury   \n",
       "3                 2016-12-13    2016-12-13              I  Malfunction   \n",
       "4                 2016-12-14    2016-12-14              I  Malfunction   \n",
       "\n",
       "  health_professional                                general_device_name  \\\n",
       "0                   Y               Ventilator, Continuous, Facility Use   \n",
       "1                   N      System, Test, Blood Glucose, Over The Counter   \n",
       "2                   Y  Defibrillator, Automatic Implantable Cardiover...   \n",
       "3                   N  Pump, Infusion, Insulin, To Be Used With Invas...   \n",
       "4                   N  Pump, Infusion, Insulin, To Be Used With Invas...   \n",
       "\n",
       "  device_class   medical_specialty  \n",
       "0            2      Anesthesiology  \n",
       "1            2  Clinical Chemistry  \n",
       "2            3             Unknown  \n",
       "3            3             Unknown  \n",
       "4            3             Unknown  \n",
       "\n",
       "[5 rows x 23 columns]"
      ]
     },
     "execution_count": 2,
     "metadata": {},
     "output_type": "execute_result"
    }
   ],
   "source": [
    "# importing the cleaned dataset\n",
    "maude = pd.read_csv(r'C:\\Users\\Tierra\\Documents\\datasets\\maude\\maude_2017_q1_cleaned.csv')\n",
    "maude.head()"
   ]
  },
  {
   "cell_type": "markdown",
   "metadata": {},
   "source": [
    "## Top 10 Reported on Medical Device Types "
   ]
  },
  {
   "cell_type": "code",
   "execution_count": 3,
   "metadata": {},
   "outputs": [
    {
     "data": {
      "image/png": "[encoded data removed]",
      "text/plain": [
       "<Figure size 432x288 with 1 Axes>"
      ]
     },
     "metadata": {
      "needs_background": "light"
     },
     "output_type": "display_data"
    }
   ],
   "source": [
    "# get top 10 generic device names\n",
    "generic_name_top_10 = maude['generic_name'].value_counts().head(10)\n",
    "# plot\n",
    "plt.barh(generic_name_top_10.index, generic_name_top_10.values)\n",
    "plt.xlabel('Reported Adverse Events')\n",
    "plt.ylabel('Generic Device Type')\n",
    "plt.show()"
   ]
  },
  {
   "cell_type": "markdown",
   "metadata": {},
   "source": [
    "## Events by date"
   ]
  },
  {
   "cell_type": "code",
   "execution_count": 4,
   "metadata": {},
   "outputs": [
    {
     "data": {
      "image/png": "[encoded data removed]",
      "text/plain": [
       "<Figure size 432x288 with 1 Axes>"
      ]
     },
     "metadata": {
      "needs_background": "light"
     },
     "output_type": "display_data"
    }
   ],
   "source": [
    "# adverse events by date\n",
    "by_date = maude['date_received'].value_counts()\n",
    "# sort by date\n",
    "by_date = by_date.sort_index()\n",
    "# line plot of adverse events by the day received\n",
    "fig, ax = plt.subplots()\n",
    "ax.plot(by_date.index, by_date.values)\n",
    "ax.set_xlabel('Date Received by FDA')\n",
    "ax.set_ylabel('Reported Adverse Events')\n",
    "# Create ticks every 7 days and label them with the week number\n",
    "date_points = [x for x in range(len(by_date)) if (x % 7) == 0]\n",
    "date_names = [(\"week \" + str(x)) for x in range(len(date_points))]\n",
    "ax.set_xticks(date_points)\n",
    "ax.set_xticklabels(date_names, rotation=45)\n",
    "\n",
    "plt.tick_params(\n",
    "    axis='both',       # changes apply to both axes\n",
    "    which='both',      # both major and minor ticks are affected\n",
    "    bottom=False,      # ticks along the bottom edge are off\n",
    "    top=False,         # ticks along the top edge are off\n",
    "    left=False         # ticks along the left edge are off\n",
    ")\n",
    "plt.show()"
   ]
  },
  {
   "cell_type": "markdown",
   "metadata": {},
   "source": [
    "## Reported Events by Event Types"
   ]
  },
  {
   "cell_type": "code",
   "execution_count": 5,
   "metadata": {},
   "outputs": [
    {
     "data": {
      "image/png": "[encoded data removed]",
      "text/plain": [
       "<Figure size 432x288 with 1 Axes>"
      ]
     },
     "metadata": {
      "needs_background": "light"
     },
     "output_type": "display_data"
    }
   ],
   "source": [
    "\n",
    "event_type = maude['event_type'].value_counts()\n",
    "# plot\n",
    "plt.barh(event_type.index, event_type.values)\n",
    "plt.xlabel('Reported Adverse Events')\n",
    "plt.ylabel('Event Type')\n",
    "plt.show()"
   ]
  },
  {
   "cell_type": "markdown",
   "metadata": {},
   "source": [
    "## Reported Events by Device Risk Classification"
   ]
  },
  {
   "cell_type": "code",
   "execution_count": 6,
   "metadata": {},
   "outputs": [
    {
     "data": {
      "image/png": "[encoded data removed]",
      "text/plain": [
       "<Figure size 432x288 with 1 Axes>"
      ]
     },
     "metadata": {
      "needs_background": "light"
     },
     "output_type": "display_data"
    }
   ],
   "source": [
    "# get top 10 generic device names\n",
    "device_class = maude['device_class'].value_counts()\n",
    "# plot\n",
    "plt.bar(device_class.index, device_class.values)\n",
    "plt.ylabel('Reported Adverse Events')\n",
    "plt.xlabel('Device Class')\n",
    "plt.show()"
   ]
  },
  {
   "cell_type": "code",
   "execution_count": 7,
   "metadata": {},
   "outputs": [
    {
     "name": "stdout",
     "output_type": "stream",
     "text": [
      "Alaska\n",
      "Alabama\n",
      "American Samoa\n",
      "District of Columbia\n",
      "Guam\n",
      "Hawaii\n",
      "Idaho\n",
      "Kentucky\n",
      "Louisiana\n",
      "Northern Mariana Islands\n",
      "Montana\n",
      "National\n",
      "North Dakota\n",
      "New Mexico\n",
      "Nevada\n",
      "South Carolina\n",
      "South Dakota\n",
      "Virgin Islands\n",
      "Vermont\n",
      "Wyoming\n"
     ]
    }
   ],
   "source": [
    "states_dict = {\n",
    "        'AK': 'Alaska',\n",
    "        'AL': 'Alabama',\n",
    "        'AR': 'Arkansas',\n",
    "        'AS': 'American Samoa',\n",
    "        'AZ': 'Arizona',\n",
    "        'CA': 'California',\n",
    "        'CO': 'Colorado',\n",
    "        'CT': 'Connecticut',\n",
    "        'DC': 'District of Columbia',\n",
    "        'DE': 'Delaware',\n",
    "        'FL': 'Florida',\n",
    "        'GA': 'Georgia',\n",
    "        'GU': 'Guam',\n",
    "        'HI': 'Hawaii',\n",
    "        'IA': 'Iowa',\n",
    "        'ID': 'Idaho',\n",
    "        'IL': 'Illinois',\n",
    "        'IN': 'Indiana',\n",
    "        'KS': 'Kansas',\n",
    "        'KY': 'Kentucky',\n",
    "        'LA': 'Louisiana',\n",
    "        'MA': 'Massachusetts',\n",
    "        'MD': 'Maryland',\n",
    "        'ME': 'Maine',\n",
    "        'MI': 'Michigan',\n",
    "        'MN': 'Minnesota',\n",
    "        'MO': 'Missouri',\n",
    "        'MP': 'Northern Mariana Islands',\n",
    "        'MS': 'Mississippi',\n",
    "        'MT': 'Montana',\n",
    "        'NA': 'National',\n",
    "        'NC': 'North Carolina',\n",
    "        'ND': 'North Dakota',\n",
    "        'NE': 'Nebraska',\n",
    "        'NH': 'New Hampshire',\n",
    "        'NJ': 'New Jersey',\n",
    "        'NM': 'New Mexico',\n",
    "        'NV': 'Nevada',\n",
    "        'NY': 'New York',\n",
    "        'OH': 'Ohio',\n",
    "        'OK': 'Oklahoma',\n",
    "        'OR': 'Oregon',\n",
    "        'PA': 'Pennsylvania',\n",
    "        'PR': 'Puerto Rico',\n",
    "        'RI': 'Rhode Island',\n",
    "        'SC': 'South Carolina',\n",
    "        'SD': 'South Dakota',\n",
    "        'TN': 'Tennessee',\n",
    "        'TX': 'Texas',\n",
    "        'UT': 'Utah',\n",
    "        'VA': 'Virginia',\n",
    "        'VI': 'Virgin Islands',\n",
    "        'VT': 'Vermont',\n",
    "        'WA': 'Washington',\n",
    "        'WI': 'Wisconsin',\n",
    "        'WV': 'West Virginia',\n",
    "        'WY': 'Wyoming'\n",
    "}\n",
    "maude['manufacturer_d_state'] = maude['manufacturer_d_state'].map(states_dict)\n",
    "# get top 10 generic device names\n",
    "\n",
    "states = maude['manufacturer_d_state'].value_counts()\n",
    "popdensity = states.to_dict()\n",
    "\n",
    "for state in states_dict.values():\n",
    "    if state not in list(states.index):\n",
    "        print(state)\n",
    "        popdensity[state] = 0 "
   ]
  },
  {
   "cell_type": "code",
   "execution_count": 9,
   "metadata": {},
   "outputs": [
    {
     "ename": "KeyError",
     "evalue": "'PROJ_LIB'",
     "output_type": "error",
     "traceback": [
      "\u001b[1;31m---------------------------------------------------------------------------\u001b[0m",
      "\u001b[1;31mKeyError\u001b[0m                                  Traceback (most recent call last)",
      "\u001b[1;32m<ipython-input-9-512bdd4d24b4>\u001b[0m in \u001b[0;36m<module>\u001b[1;34m\u001b[0m\n\u001b[1;32m----> 1\u001b[1;33m \u001b[1;32mfrom\u001b[0m \u001b[0mmpl_toolkits\u001b[0m\u001b[1;33m.\u001b[0m\u001b[0mbasemap\u001b[0m \u001b[1;32mimport\u001b[0m \u001b[0mBasemap\u001b[0m \u001b[1;32mas\u001b[0m \u001b[0mBasemap\u001b[0m\u001b[1;33m\u001b[0m\u001b[1;33m\u001b[0m\u001b[0m\n\u001b[0m\u001b[0;32m      2\u001b[0m \u001b[1;32mfrom\u001b[0m \u001b[0mmatplotlib\u001b[0m\u001b[1;33m.\u001b[0m\u001b[0mcolors\u001b[0m \u001b[1;32mimport\u001b[0m \u001b[0mrgb2hex\u001b[0m\u001b[1;33m\u001b[0m\u001b[1;33m\u001b[0m\u001b[0m\n\u001b[0;32m      3\u001b[0m \u001b[1;32mfrom\u001b[0m \u001b[0mmatplotlib\u001b[0m\u001b[1;33m.\u001b[0m\u001b[0mpatches\u001b[0m \u001b[1;32mimport\u001b[0m \u001b[0mPolygon\u001b[0m\u001b[1;33m\u001b[0m\u001b[1;33m\u001b[0m\u001b[0m\n\u001b[0;32m      4\u001b[0m \u001b[1;31m# Lambert Conformal map of lower 48 states.\u001b[0m\u001b[1;33m\u001b[0m\u001b[1;33m\u001b[0m\u001b[1;33m\u001b[0m\u001b[0m\n\u001b[0;32m      5\u001b[0m m = Basemap(llcrnrlon=-119,llcrnrlat=22,urcrnrlon=-64,urcrnrlat=49,\n",
      "\u001b[1;32m~\\Anaconda3\\lib\\site-packages\\mpl_toolkits\\basemap\\__init__.py\u001b[0m in \u001b[0;36m<module>\u001b[1;34m\u001b[0m\n\u001b[0;32m    153\u001b[0m \u001b[1;33m\u001b[0m\u001b[0m\n\u001b[0;32m    154\u001b[0m \u001b[1;31m# create dictionary that maps epsg codes to Basemap kwargs.\u001b[0m\u001b[1;33m\u001b[0m\u001b[1;33m\u001b[0m\u001b[1;33m\u001b[0m\u001b[0m\n\u001b[1;32m--> 155\u001b[1;33m \u001b[0mpyproj_datadir\u001b[0m \u001b[1;33m=\u001b[0m \u001b[0mos\u001b[0m\u001b[1;33m.\u001b[0m\u001b[0menviron\u001b[0m\u001b[1;33m[\u001b[0m\u001b[1;34m'PROJ_LIB'\u001b[0m\u001b[1;33m]\u001b[0m\u001b[1;33m\u001b[0m\u001b[1;33m\u001b[0m\u001b[0m\n\u001b[0m\u001b[0;32m    156\u001b[0m \u001b[0mepsgf\u001b[0m \u001b[1;33m=\u001b[0m \u001b[0mopen\u001b[0m\u001b[1;33m(\u001b[0m\u001b[0mos\u001b[0m\u001b[1;33m.\u001b[0m\u001b[0mpath\u001b[0m\u001b[1;33m.\u001b[0m\u001b[0mjoin\u001b[0m\u001b[1;33m(\u001b[0m\u001b[0mpyproj_datadir\u001b[0m\u001b[1;33m,\u001b[0m\u001b[1;34m'epsg'\u001b[0m\u001b[1;33m)\u001b[0m\u001b[1;33m)\u001b[0m\u001b[1;33m\u001b[0m\u001b[1;33m\u001b[0m\u001b[0m\n\u001b[0;32m    157\u001b[0m \u001b[0mepsg_dict\u001b[0m\u001b[1;33m=\u001b[0m\u001b[1;33m{\u001b[0m\u001b[1;33m}\u001b[0m\u001b[1;33m\u001b[0m\u001b[1;33m\u001b[0m\u001b[0m\n",
      "\u001b[1;32m~\\Anaconda3\\lib\\os.py\u001b[0m in \u001b[0;36m__getitem__\u001b[1;34m(self, key)\u001b[0m\n\u001b[0;32m    676\u001b[0m         \u001b[1;32mexcept\u001b[0m \u001b[0mKeyError\u001b[0m\u001b[1;33m:\u001b[0m\u001b[1;33m\u001b[0m\u001b[1;33m\u001b[0m\u001b[0m\n\u001b[0;32m    677\u001b[0m             \u001b[1;31m# raise KeyError with the original key value\u001b[0m\u001b[1;33m\u001b[0m\u001b[1;33m\u001b[0m\u001b[1;33m\u001b[0m\u001b[0m\n\u001b[1;32m--> 678\u001b[1;33m             \u001b[1;32mraise\u001b[0m \u001b[0mKeyError\u001b[0m\u001b[1;33m(\u001b[0m\u001b[0mkey\u001b[0m\u001b[1;33m)\u001b[0m \u001b[1;32mfrom\u001b[0m \u001b[1;32mNone\u001b[0m\u001b[1;33m\u001b[0m\u001b[1;33m\u001b[0m\u001b[0m\n\u001b[0m\u001b[0;32m    679\u001b[0m         \u001b[1;32mreturn\u001b[0m \u001b[0mself\u001b[0m\u001b[1;33m.\u001b[0m\u001b[0mdecodevalue\u001b[0m\u001b[1;33m(\u001b[0m\u001b[0mvalue\u001b[0m\u001b[1;33m)\u001b[0m\u001b[1;33m\u001b[0m\u001b[1;33m\u001b[0m\u001b[0m\n\u001b[0;32m    680\u001b[0m \u001b[1;33m\u001b[0m\u001b[0m\n",
      "\u001b[1;31mKeyError\u001b[0m: 'PROJ_LIB'"
     ]
    }
   ],
   "source": [
    "from mpl_toolkits.basemap import Basemap as Basemap\n",
    "from matplotlib.colors import rgb2hex\n",
    "from matplotlib.patches import Polygon\n",
    "# Lambert Conformal map of lower 48 states.\n",
    "m = Basemap(llcrnrlon=-119,llcrnrlat=22,urcrnrlon=-64,urcrnrlat=49,\n",
    "        projection='lcc',lat_1=33,lat_2=45,lon_0=-95)\n",
    "# draw state boundaries.\n",
    "# data from U.S Census Bureau\n",
    "# http://www.census.gov/geo/www/cob/st2000.html\n",
    "shp_info = m.readshapefile('st99_d00','states',drawbounds=True)\n",
    "# choose a color for each state based on population density.\n",
    "colors={}\n",
    "statenames=[]\n",
    "cmap = plt.cm.cool # use 'hot' colormap\n",
    "vmin = 0; vmax = 450 # set range.\n",
    "for shapedict in m.states_info:\n",
    "    statename = shapedict['NAME']\n",
    "    # skip DC and Puerto Rico.\n",
    "    if statename not in ['District of Columbia']:\n",
    "        pop = popdensity[statename]\n",
    "        # calling colormap with value between 0 and 1 returns\n",
    "        # rgba value.  Invert color range (hot colors are high\n",
    "        # population), take sqrt root to spread out colors more.\n",
    "        colors[statename] = cmap(1.-np.sqrt((pop-vmin)/(vmax-vmin)))[:3]\n",
    "    statenames.append(statename)\n",
    "# cycle through state names, color each one.\n",
    "ax = plt.gca() # get current axes instance\n",
    "for nshape,seg in enumerate(m.states):\n",
    "    # skip DC and Puerto Rico.\n",
    "    if statenames[nshape] not in ['District of Columbia']:\n",
    "    # Offset Alaska and Hawaii to the lower-left corner. Z\n",
    "        if statenames[nshape] == 'Alaska':\n",
    "        # Alaska is too big. Scale it down to 35% first, then transate it. \n",
    "            seg = list(map(lambda x, y: (0.35*x + 1100000, 0.35*y-1300000), seg))\n",
    "\n",
    "        color = rgb2hex(colors[statenames[nshape]]) \n",
    "        poly = Polygon(seg,facecolor=color,edgecolor=color)\n",
    "        ax.add_patch(poly)\n",
    "plt.title('Filling State Polygons by Population Density')\n",
    "plt.show()"
   ]
  },
  {
   "cell_type": "code",
   "execution_count": null,
   "metadata": {},
   "outputs": [],
   "source": [
    "list(states.index)"
   ]
  },
  {
   "cell_type": "code",
   "execution_count": 10,
   "metadata": {},
   "outputs": [
    {
     "ename": "ModuleNotFoundError",
     "evalue": "No module named 'geopandas'",
     "output_type": "error",
     "traceback": [
      "\u001b[1;31m---------------------------------------------------------------------------\u001b[0m",
      "\u001b[1;31mModuleNotFoundError\u001b[0m                       Traceback (most recent call last)",
      "\u001b[1;32m<ipython-input-10-e909c167d460>\u001b[0m in \u001b[0;36m<module>\u001b[1;34m\u001b[0m\n\u001b[1;32m----> 1\u001b[1;33m \u001b[1;32mimport\u001b[0m \u001b[0mgeopandas\u001b[0m \u001b[1;32mas\u001b[0m \u001b[0mgpd\u001b[0m\u001b[1;33m\u001b[0m\u001b[1;33m\u001b[0m\u001b[0m\n\u001b[0m\u001b[0;32m      2\u001b[0m \u001b[1;32mfrom\u001b[0m \u001b[0mshapely\u001b[0m\u001b[1;33m.\u001b[0m\u001b[0mgeometry\u001b[0m \u001b[1;32mimport\u001b[0m \u001b[0mPoint\u001b[0m\u001b[1;33m,\u001b[0m \u001b[0mPolygon\u001b[0m\u001b[1;33m\u001b[0m\u001b[1;33m\u001b[0m\u001b[0m\n",
      "\u001b[1;31mModuleNotFoundError\u001b[0m: No module named 'geopandas'"
     ]
    }
   ],
   "source": [
    "import geopandas as gpd\n",
    "from shapely.geometry import Point, Polygon"
   ]
  },
  {
   "cell_type": "code",
   "execution_count": null,
   "metadata": {},
   "outputs": [],
   "source": []
  }
 ],
 "metadata": {
  "kernelspec": {
   "display_name": "Python 3",
   "language": "python",
   "name": "python3"
  },
  "language_info": {
   "codemirror_mode": {
    "name": "ipython",
    "version": 3
   },
   "file_extension": ".py",
   "mimetype": "text/x-python",
   "name": "python",
   "nbconvert_exporter": "python",
   "pygments_lexer": "ipython3",
   "version": "3.7.1"
  }
 },
 "nbformat": 4,
 "nbformat_minor": 2
}
